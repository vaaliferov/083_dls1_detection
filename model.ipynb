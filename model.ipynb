{
 "cells": [
  {
   "cell_type": "markdown",
   "id": "56f2fd60",
   "metadata": {},
   "source": [
    "* [TorchScript, ONNX, CoreML Export](https://github.com/ultralytics/yolov5/issues/251)\n",
    "* [How can I interpreted my output shape?](https://github.com/ultralytics/yolov5/issues/1277#issuecomment-810458576)\n",
    "* [non_max_suppression (yolo)](https://github.com/ultralytics/yolov5/blob/3a72d4a7e33e55a3a505832eb44fd7f7b630fffc/utils/general.py#L532)\n",
    "* [non_max_suppression (python)](https://gist.github.com/CMCDragonkai/1be3402e261d3c239a307a3346360506)\n",
    "* [Obtain Character-Level Bounding Boxes of Generated Text](https://github.com/python-pillow/Pillow/issues/3921)\n",
    "* [Importing Pillow ImageDraw and running streamlit app causes segmentation fault](https://githubmemory.com/repo/streamlit/streamlit/issues/3636)\n",
    "* [yolov5 class colors](https://github.com/ultralytics/yolov5/blob/e5e5ebc7999e26ec0d5f96bb6d12de25e412d98e/utils/plots.py#L27)"
   ]
  },
  {
   "cell_type": "markdown",
   "id": "49dbe99c",
   "metadata": {},
   "source": [
    "### Exporting The Model (ONNX)"
   ]
  },
  {
   "cell_type": "code",
   "execution_count": null,
   "id": "40787c76",
   "metadata": {},
   "outputs": [],
   "source": [
    "%%bash\n",
    "git clone https://github.com/ultralytics/yolov5\n",
    "cd yolov5\n",
    "pip install -r requirements.txt\n",
    "pip install -U coremltools onnx scikit-learn\n",
    "python3 export.py --weights yolov5s.pt --img 640 --batch 1\n",
    "cp yolov5s.onnx ../"
   ]
  },
  {
   "cell_type": "markdown",
   "id": "b2b356bb",
   "metadata": {},
   "source": [
    "### Saving Labels (TXT)"
   ]
  },
  {
   "cell_type": "code",
   "execution_count": null,
   "id": "254e154f",
   "metadata": {},
   "outputs": [],
   "source": [
    "!pip install pyyaml\n",
    "import yaml\n",
    "\n",
    "labels_path = 'labels.txt'\n",
    "yaml_path = 'yolov5/data/coco128.yaml'\n",
    "\n",
    "with open(yaml_path,'r') as y, open(labels_path,'w') as l:\n",
    "    labels = yaml.safe_load(y)['names']\n",
    "    for label in labels: l.write(f'{label}\\n')"
   ]
  },
  {
   "cell_type": "markdown",
   "id": "4719fca2",
   "metadata": {},
   "source": [
    "### Loading & Testing (ONNX)"
   ]
  },
  {
   "cell_type": "code",
   "execution_count": 2,
   "id": "6ec600bf",
   "metadata": {},
   "outputs": [
    {
     "data": {
      "text/plain": [
       "(1, 25200, 85)"
      ]
     },
     "execution_count": 2,
     "metadata": {},
     "output_type": "execute_result"
    }
   ],
   "source": [
    "import numpy as np\n",
    "import onnxruntime\n",
    "onnx_model = onnxruntime.InferenceSession('yolov5s.onnx')\n",
    "x = np.random.randn(1, 3, 640, 640).astype(np.float32)\n",
    "inps = {onnx_model.get_inputs()[0].name: x}\n",
    "outs = onnx_model.run(None, inps)\n",
    "outs[0].shape"
   ]
  }
 ],
 "metadata": {
  "interpreter": {
   "hash": "916dbcbb3f70747c44a77c7bcd40155683ae19c65e1c03b4aa3499c5328201f1"
  },
  "kernelspec": {
   "display_name": "Python 3 (ipykernel)",
   "language": "python",
   "name": "python3"
  },
  "language_info": {
   "codemirror_mode": {
    "name": "ipython",
    "version": 3
   },
   "file_extension": ".py",
   "mimetype": "text/x-python",
   "name": "python",
   "nbconvert_exporter": "python",
   "pygments_lexer": "ipython3",
   "version": "3.9.5"
  }
 },
 "nbformat": 4,
 "nbformat_minor": 5
}
